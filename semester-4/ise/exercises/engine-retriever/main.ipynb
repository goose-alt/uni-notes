{
 "cells": [
  {
   "cell_type": "code",
   "execution_count": 7,
   "metadata": {},
   "outputs": [],
   "source": [
    "import os\n",
    "import re\n",
    "import requests\n",
    "from dotenv import load_dotenv\n",
    "from datetime import datetime, timedelta\n",
    "from bs4 import BeautifulSoup\n",
    "\n",
    "load_dotenv()\n",
    "\n",
    "apiKey = os.getenv(\"API_KEY\")\n",
    "flight = os.getenv(\"FLIGHT\")\n",
    "startAirport = os.getenv(\"START_AIRPORT\")\n",
    "endAirport = os.getenv(\"END_AIRPORT\")\n",
    "startDate = os.getenv(\"START_DATE\")\n",
    "\n",
    "parsedDate = datetime.strptime(\n",
    "    startDate, \"%Y-%m-%dT%H:%M:%S.%f+00:00\")\n",
    "endDate = parsedDate+timedelta(days=1)\n",
    "\n",
    "flightRegex = re.compile(\"(?P<airline>\\D+)(?P<flightNumber>\\d+)\")\n",
    "engines = re.compile(\"Engines\\s+(?P<amount>\\d+) x (?P<engines>.+)\")\n",
    "\n",
    "headers = {\n",
    "    \"x-apikey\": apiKey,\n",
    "}\n"
   ]
  },
  {
   "cell_type": "code",
   "execution_count": 8,
   "metadata": {},
   "outputs": [],
   "source": [
    "def getFlight():\n",
    "    m = flightRegex.match(flight)\n",
    "\n",
    "    payload = {\n",
    "        \"origin\": startAirport,\n",
    "        \"destination\": endAirport,\n",
    "        \"airline\": m.group(\"airline\"),\n",
    "    }\n",
    "    url = f\"https://aeroapi.flightaware.com/aeroapi/schedules/{parsedDate.strftime('%Y-%m-%d')}/{endDate.strftime('%Y-%m-%d')}\"\n",
    "\n",
    "    print(\"Sending request...\")\n",
    "    print(\"URL:\", url)\n",
    "    print(\"Payload:\", payload)\n",
    "    r = requests.get(url, params=payload, headers=headers)\n",
    "\n",
    "    print(\"Response:\", r.text)\n",
    "\n",
    "    return r.json()[\"scheduled\"][0][\"fa_flight_id\"]\n",
    "\n",
    "\n",
    "def getEngine(flightId):\n",
    "    url = f\"https://aeroapi.flightaware.com/aeroapi/flights/{flightId}\"\n",
    "\n",
    "    print(\"Sending request...\")\n",
    "    print(\"URL:\", url)\n",
    "    r = requests.get(url, headers=headers)\n",
    "\n",
    "    return r.json()\n"
   ]
  },
  {
   "cell_type": "code",
   "execution_count": 9,
   "metadata": {},
   "outputs": [
    {
     "name": "stdout",
     "output_type": "stream",
     "text": [
      "Sending request...\n",
      "URL: https://aeroapi.flightaware.com/aeroapi/schedules/2022-03-07/2022-03-08\n",
      "Payload: {'origin': 'ARN', 'destination': 'ALC', 'airline': 'DY'}\n",
      "Response: {\"scheduled\":[{\"ident\":\"NOZ5353\",\"ident_icao\":\"NOZ5353\",\"ident_iata\":\"DY5353\",\"actual_ident\":null,\"actual_ident_icao\":null,\"actual_ident_iata\":null,\"aircraft_type\":\"B738\",\"scheduled_in\":\"2022-03-07T22:45:00Z\",\"scheduled_out\":\"2022-03-07T18:50:00Z\",\"origin\":\"ESSA\",\"origin_icao\":\"ESSA\",\"origin_iata\":\"ARN\",\"origin_lid\":null,\"destination\":\"LEAL\",\"destination_icao\":\"LEAL\",\"destination_iata\":\"ALC\",\"destination_lid\":null,\"fa_flight_id\":\"NOZ5353-1646446693-airline-0451\",\"meal_service\":\"Economy: Food for sale\",\"seats_cabin_business\":0,\"seats_cabin_coach\":186,\"seats_cabin_first\":0}],\"links\":null,\"num_pages\":1}\n",
      "Sending request...\n",
      "URL: https://aeroapi.flightaware.com/aeroapi/flights/NOZ5353-1646446693-airline-0451\n"
     ]
    }
   ],
   "source": [
    "flightId = getFlight()\n",
    "engine = getEngine(flightId)"
   ]
  },
  {
   "cell_type": "code",
   "execution_count": 10,
   "metadata": {},
   "outputs": [
    {
     "name": "stdout",
     "output_type": "stream",
     "text": [
      "Sending request...\n",
      "URL: https://www.airfleets.net/recherche/\n",
      "Payload: {'key': 'SE-RPI'}\n",
      "Plane href: ../ficheapp/plane-b737ng-42072.htm\n",
      "Plane URL: https://www.airfleets.net/recherche/../ficheapp/plane-b737ng-42072.htm\n"
     ]
    }
   ],
   "source": [
    "def searchPlane(registration):\n",
    "    payload = {\n",
    "        \"key\": registration,\n",
    "    }\n",
    "\n",
    "    header = {\n",
    "        \"User-Agent\": \"Mozilla/5.0 (X11; Ubuntu; Linux x86_64; rv:97.0) Gecko/20100101 Firefox/97.0\"\n",
    "    }\n",
    "\n",
    "    url = f\"https://www.airfleets.net/recherche/\"\n",
    "\n",
    "    print(\"Sending request...\")\n",
    "    print(\"URL:\", url)\n",
    "    print(\"Payload:\", payload)\n",
    "    r = requests.get(url, headers=header, params=payload)\n",
    "\n",
    "    soup = BeautifulSoup(r.text, \"html.parser\")\n",
    "    planeHref = soup.find('main').find_all('table')[2].find_all('tr')[1].find_all('td')[0].find('a')['href']\n",
    "    print(\"Plane href:\", planeHref)\n",
    "\n",
    "    return url + planeHref\n",
    "        \n",
    "registration = engine['flights'][0]['registration']\n",
    "planeUrl = searchPlane(registration)\n",
    "print(\"Plane URL:\", planeUrl)"
   ]
  },
  {
   "cell_type": "code",
   "execution_count": 16,
   "metadata": {},
   "outputs": [
    {
     "name": "stdout",
     "output_type": "stream",
     "text": [
      "Engines\t\t\t\t2 x CFMI CFM56-7B26\n"
     ]
    }
   ],
   "source": [
    "def getEngine(url):\n",
    "    header = {\n",
    "        \"User-Agent\": \"Mozilla/5.0 (X11; Ubuntu; Linux x86_64; rv:97.0) Gecko/20100101 Firefox/97.0\"\n",
    "    }\n",
    "\n",
    "    r = requests.get(url, headers=header)\n",
    "\n",
    "    soup = BeautifulSoup(r.text, \"html.parser\")\n",
    "\n",
    "    engine = soup.find('main').find_all('table')[6].find('td').text\n",
    "    print(engine.strip())\n",
    "    return engine.strip()\n",
    "\n",
    "\n",
    "engineSpec = getEngine(planeUrl)\n",
    "\n"
   ]
  },
  {
   "cell_type": "code",
   "execution_count": 17,
   "metadata": {},
   "outputs": [
    {
     "name": "stdout",
     "output_type": "stream",
     "text": [
      "<re.Match object; span=(0, 30), match='Engines\\t\\t\\t\\t2 x CFMI CFM56-7B26'>\n"
     ]
    }
   ],
   "source": [
    "engineRegex = re.compile(\"Engines\\s+(?P<amount>\\d+) x (?P<engines>.+)\")\n",
    "\n",
    "def parseEngine(engine):\n",
    "    m = engineRegex.match(engine)\n",
    "    return [m.group('amount'), m.group('engines')]\n",
    "\n",
    "parseEngine(engineSpec)\n"
   ]
  }
 ],
 "metadata": {
  "interpreter": {
   "hash": "31f2aee4e71d21fbe5cf8b01ff0e069b9275f58929596ceb00d14d90e3e16cd6"
  },
  "kernelspec": {
   "display_name": "Python 3.9.7 64-bit",
   "language": "python",
   "name": "python3"
  },
  "language_info": {
   "codemirror_mode": {
    "name": "ipython",
    "version": 3
   },
   "file_extension": ".py",
   "mimetype": "text/x-python",
   "name": "python",
   "nbconvert_exporter": "python",
   "pygments_lexer": "ipython3",
   "version": "3.9.7"
  },
  "orig_nbformat": 4
 },
 "nbformat": 4,
 "nbformat_minor": 2
}
